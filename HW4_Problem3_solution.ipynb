{
  "cells": [
    {
      "cell_type": "markdown",
      "metadata": {
        "id": "view-in-github",
        "colab_type": "text"
      },
      "source": [
        "<a href=\"https://colab.research.google.com/github/shuwenericlei/be183/blob/main/HW4_Problem3_solution.ipynb\" target=\"_parent\"><img src=\"https://colab.research.google.com/assets/colab-badge.svg\" alt=\"Open In Colab\"/></a>"
      ]
    },
    {
      "cell_type": "markdown",
      "metadata": {
        "id": "MozW3XxY8ezr"
      },
      "source": [
        "Bi/Be/Cs 183 2022-2023: Intro to Computational Biology\n",
        "TAs: Meichen Fang, Tara Chari, Zitong (Jerry) Wang\n",
        "\n",
        "**Submit your notebooks by sharing a clickable link with Viewer access. Link must be accessible from submitted assignment document.**\n",
        "\n",
        "Make sure Runtime $\\rightarrow$ Restart and run all works without error"
      ]
    },
    {
      "cell_type": "markdown",
      "metadata": {
        "id": "Mu4obGyqS8fh"
      },
      "source": [
        "**HW 4 Problem 3**\n",
        "\n",
        "In this problem you will develop code for running the EM algorithm to fit a Gaussian Mixture Model (GMM). You will learn the mixture weights for a set of (multivariate) Gaussian distributions, which describe the input, single-cell data. This is a common approach to determine clusters within a dataset.\n"
      ]
    },
    {
      "cell_type": "markdown",
      "metadata": {
        "id": "fJ8J92ntz2rk"
      },
      "source": [
        "##**Import data and install packages**"
      ]
    },
    {
      "cell_type": "code",
      "execution_count": null,
      "metadata": {
        "id": "rjy8W5hly24q"
      },
      "outputs": [],
      "source": [
        "import numpy as np\n",
        "import scipy.io as sio\n",
        "import pandas as pd\n",
        "import matplotlib.pyplot as plt #Can use other plotting packages like seaborn"
      ]
    },
    {
      "cell_type": "code",
      "execution_count": null,
      "metadata": {
        "id": "0Ep8gQNCNLHr"
      },
      "outputs": [],
      "source": [
        "import time\n",
        "t=time.time()"
      ]
    },
    {
      "cell_type": "code",
      "execution_count": null,
      "metadata": {
        "colab": {
          "base_uri": "https://localhost:8080/",
          "height": 103,
          "referenced_widgets": [
            "d9d5606df4af48a6ac909ebbc16b1e65",
            "3760de042fd34069986f6457ba6907d7",
            "2adb1e8fb2a3426c934bfef5623829b6",
            "d8155a43bb694a5092710fd09deef0ac",
            "136e0fb8dff74d55ae368408a6065d16",
            "fb4227f5a8d14dd5ba4d8fca34e51c96",
            "6a767101a53e42b3b7732398ecce26c5",
            "0e030039f10a43518217b2f74e3fe363",
            "ea79eb2922f54f59ac0c4e3d32e389de",
            "7875473405764df4bf10e8338d7f301b",
            "bfe7c44243ae4140bccabae056b93ef4"
          ]
        },
        "id": "yH-EpSmB9Y_x",
        "outputId": "3a72c757-64b8-4046-c045-1c26d4021d68"
      },
      "outputs": [
        {
          "output_type": "stream",
          "name": "stderr",
          "text": [
            "<ipython-input-3-6c7d4cfd6c14>:24: TqdmDeprecationWarning: Please use `tqdm.notebook.trange` instead of `tqdm.tnrange`\n",
            "  pbar = tnrange(int(total_length/1024), unit=\"B\")\n"
          ]
        },
        {
          "output_type": "display_data",
          "data": {
            "text/plain": [
              "  0%|          | 0/94578 [00:00<?, ?B/s]"
            ],
            "application/vnd.jupyter.widget-view+json": {
              "version_major": 2,
              "version_minor": 0,
              "model_id": "d9d5606df4af48a6ac909ebbc16b1e65"
            }
          },
          "metadata": {}
        },
        {
          "output_type": "execute_result",
          "data": {
            "text/plain": [
              "'D1.2315.gz'"
            ],
            "application/vnd.google.colaboratory.intrinsic+json": {
              "type": "string"
            }
          },
          "metadata": {},
          "execution_count": 3
        }
      ],
      "source": [
        "#Download count matrix of cell by gene counts and metadata files, DOI: 10.22002/D1.2315\n",
        "#tar.gz file which has:\n",
        "#(1) count matrix \n",
        "#(2) metadata for cells (cell type, date of experimental run) \n",
        "#(3) metadata for genes (gene names)\n",
        "\n",
        "import requests\n",
        "from tqdm import tnrange, tqdm_notebook\n",
        "def download_file(doi,ext):\n",
        "    url = 'https://api.datacite.org/dois/'+doi+'/media'\n",
        "    r = requests.get(url).json()\n",
        "    netcdf_url = r['data'][0]['attributes']['url']\n",
        "    r = requests.get(netcdf_url,stream=True)\n",
        "    #Set file name\n",
        "    fname = doi.split('/')[-1]+ext\n",
        "    #Download file with progress bar\n",
        "    if r.status_code == 403:\n",
        "        print(\"File Unavailable\")\n",
        "    if 'content-length' not in r.headers:\n",
        "        print(\"Did not get file\")\n",
        "    else:\n",
        "        with open(fname, 'wb') as f:\n",
        "            total_length = int(r.headers.get('content-length'))\n",
        "            pbar = tnrange(int(total_length/1024), unit=\"B\")\n",
        "            for chunk in r.iter_content(chunk_size=1024):\n",
        "                if chunk:\n",
        "                    pbar.update()\n",
        "                    f.write(chunk)\n",
        "        return fname\n",
        "\n",
        "download_file('10.22002/D1.2315','.gz')\n"
      ]
    },
    {
      "cell_type": "code",
      "execution_count": null,
      "metadata": {
        "colab": {
          "base_uri": "https://localhost:8080/"
        },
        "id": "31SK6rfgnkyw",
        "outputId": "88393f4a-32b8-44b8-8319-73454bc0628b"
      },
      "outputs": [
        {
          "output_type": "stream",
          "name": "stdout",
          "text": [
            "biccnGeneMeta.csv\n",
            "biccnMeta.csv\n",
            "biccn.mtx\n"
          ]
        }
      ],
      "source": [
        "!mv D1.2315.gz biccn.tar.gz\n",
        "!tar -xvf biccn.tar.gz"
      ]
    },
    {
      "cell_type": "markdown",
      "metadata": {
        "id": "PpeuucqgiDPx"
      },
      "source": [
        "## **Read in data for analysis**"
      ]
    },
    {
      "cell_type": "markdown",
      "metadata": {
        "id": "swY2nSDukmXg"
      },
      "source": [
        "**The dataset**"
      ]
    },
    {
      "cell_type": "markdown",
      "metadata": {
        "id": "NKSN3bu8cQ3O"
      },
      "source": [
        "This dataset maps the cells in the mouse primary cortex (MOp), including neuronal and non-neuronal cell types, for a total of 10 cell types ([Yao et al., 2021](https://www.nature.com/articles/s41586-021-03500-8)). We will be dealing with the 10x sequenced data only.\n"
      ]
    },
    {
      "cell_type": "markdown",
      "metadata": {
        "id": "58nQkH9eko4-"
      },
      "source": [
        "**The count matrix**\n",
        "\n",
        "This matrix is 18,744 cells by 5,000 genes. The full dataset contains 71,365 cells, however we will work with a randomly subsetted version to facilitate calculations within the Colab environment.\n",
        "\n",
        "1.   For each cell, gene counts were normalized to have the same number of total counts (usually 1e5 or 1e6), with cell-gene counts thus scaled accordingly.\n",
        "\n",
        "2.   Counts were then log-normalized, using the log(1+x), where x is each cell's gene count. The 1 accounts for 0 count genes. \n",
        "\n",
        "3. The ~5000 genes were selected for those that displayed large variance in expression amongst the cells ('highly variable genes').\n",
        "\n"
      ]
    },
    {
      "cell_type": "code",
      "execution_count": null,
      "metadata": {
        "colab": {
          "base_uri": "https://localhost:8080/",
          "height": 35
        },
        "id": "tZ1h_dME8vJb",
        "outputId": "5d02a02f-36af-42b8-c267-9ccb18e89c10"
      },
      "outputs": [
        {
          "output_type": "execute_result",
          "data": {
            "text/plain": [
              "(18744, 5000)"
            ]
          },
          "metadata": {},
          "execution_count": 5
        }
      ],
      "source": [
        "#Get gene count matrix\n",
        "count_mat = sio.mmread('biccn.mtx')\n",
        "\n",
        "count_mat = count_mat.todense() #Make dense since most functions we'll use don't work with sparse matrices\n",
        "count_mat.shape"
      ]
    },
    {
      "cell_type": "code",
      "execution_count": null,
      "metadata": {
        "colab": {
          "base_uri": "https://localhost:8080/",
          "height": 238
        },
        "id": "NFissu8VB92P",
        "outputId": "156e18af-5de3-4ae7-b63f-a7f9378c502f"
      },
      "outputs": [
        {
          "output_type": "execute_result",
          "data": {
            "text/plain": [
              "                                         cell_type\n",
              "barcode                                           \n",
              "AAACGAAGTGGATTTC-3L8TX_181211_01_A01       L2/3 IT\n",
              "AAACGCTCAATGCTCA-3L8TX_181211_01_A01       L2/3 IT\n",
              "AAAGTCCGTGTATCCA-3L8TX_181211_01_A01  L6 CT Cpa6_1\n",
              "AAAGTGAGTCGCCACA-3L8TX_181211_01_A01       L2/3 IT\n",
              "AAAGTGATCGTCTACC-3L8TX_181211_01_A01       L2/3 IT"
            ],
            "text/html": [
              "\n",
              "  <div id=\"df-4d31746c-1a83-4ea9-b78b-76dba8e2808c\">\n",
              "    <div class=\"colab-df-container\">\n",
              "      <div>\n",
              "<style scoped>\n",
              "    .dataframe tbody tr th:only-of-type {\n",
              "        vertical-align: middle;\n",
              "    }\n",
              "\n",
              "    .dataframe tbody tr th {\n",
              "        vertical-align: top;\n",
              "    }\n",
              "\n",
              "    .dataframe thead th {\n",
              "        text-align: right;\n",
              "    }\n",
              "</style>\n",
              "<table border=\"1\" class=\"dataframe\">\n",
              "  <thead>\n",
              "    <tr style=\"text-align: right;\">\n",
              "      <th></th>\n",
              "      <th>cell_type</th>\n",
              "    </tr>\n",
              "    <tr>\n",
              "      <th>barcode</th>\n",
              "      <th></th>\n",
              "    </tr>\n",
              "  </thead>\n",
              "  <tbody>\n",
              "    <tr>\n",
              "      <th>AAACGAAGTGGATTTC-3L8TX_181211_01_A01</th>\n",
              "      <td>L2/3 IT</td>\n",
              "    </tr>\n",
              "    <tr>\n",
              "      <th>AAACGCTCAATGCTCA-3L8TX_181211_01_A01</th>\n",
              "      <td>L2/3 IT</td>\n",
              "    </tr>\n",
              "    <tr>\n",
              "      <th>AAAGTCCGTGTATCCA-3L8TX_181211_01_A01</th>\n",
              "      <td>L6 CT Cpa6_1</td>\n",
              "    </tr>\n",
              "    <tr>\n",
              "      <th>AAAGTGAGTCGCCACA-3L8TX_181211_01_A01</th>\n",
              "      <td>L2/3 IT</td>\n",
              "    </tr>\n",
              "    <tr>\n",
              "      <th>AAAGTGATCGTCTACC-3L8TX_181211_01_A01</th>\n",
              "      <td>L2/3 IT</td>\n",
              "    </tr>\n",
              "  </tbody>\n",
              "</table>\n",
              "</div>\n",
              "      <button class=\"colab-df-convert\" onclick=\"convertToInteractive('df-4d31746c-1a83-4ea9-b78b-76dba8e2808c')\"\n",
              "              title=\"Convert this dataframe to an interactive table.\"\n",
              "              style=\"display:none;\">\n",
              "        \n",
              "  <svg xmlns=\"http://www.w3.org/2000/svg\" height=\"24px\"viewBox=\"0 0 24 24\"\n",
              "       width=\"24px\">\n",
              "    <path d=\"M0 0h24v24H0V0z\" fill=\"none\"/>\n",
              "    <path d=\"M18.56 5.44l.94 2.06.94-2.06 2.06-.94-2.06-.94-.94-2.06-.94 2.06-2.06.94zm-11 1L8.5 8.5l.94-2.06 2.06-.94-2.06-.94L8.5 2.5l-.94 2.06-2.06.94zm10 10l.94 2.06.94-2.06 2.06-.94-2.06-.94-.94-2.06-.94 2.06-2.06.94z\"/><path d=\"M17.41 7.96l-1.37-1.37c-.4-.4-.92-.59-1.43-.59-.52 0-1.04.2-1.43.59L10.3 9.45l-7.72 7.72c-.78.78-.78 2.05 0 2.83L4 21.41c.39.39.9.59 1.41.59.51 0 1.02-.2 1.41-.59l7.78-7.78 2.81-2.81c.8-.78.8-2.07 0-2.86zM5.41 20L4 18.59l7.72-7.72 1.47 1.35L5.41 20z\"/>\n",
              "  </svg>\n",
              "      </button>\n",
              "      \n",
              "  <style>\n",
              "    .colab-df-container {\n",
              "      display:flex;\n",
              "      flex-wrap:wrap;\n",
              "      gap: 12px;\n",
              "    }\n",
              "\n",
              "    .colab-df-convert {\n",
              "      background-color: #E8F0FE;\n",
              "      border: none;\n",
              "      border-radius: 50%;\n",
              "      cursor: pointer;\n",
              "      display: none;\n",
              "      fill: #1967D2;\n",
              "      height: 32px;\n",
              "      padding: 0 0 0 0;\n",
              "      width: 32px;\n",
              "    }\n",
              "\n",
              "    .colab-df-convert:hover {\n",
              "      background-color: #E2EBFA;\n",
              "      box-shadow: 0px 1px 2px rgba(60, 64, 67, 0.3), 0px 1px 3px 1px rgba(60, 64, 67, 0.15);\n",
              "      fill: #174EA6;\n",
              "    }\n",
              "\n",
              "    [theme=dark] .colab-df-convert {\n",
              "      background-color: #3B4455;\n",
              "      fill: #D2E3FC;\n",
              "    }\n",
              "\n",
              "    [theme=dark] .colab-df-convert:hover {\n",
              "      background-color: #434B5C;\n",
              "      box-shadow: 0px 1px 3px 1px rgba(0, 0, 0, 0.15);\n",
              "      filter: drop-shadow(0px 1px 2px rgba(0, 0, 0, 0.3));\n",
              "      fill: #FFFFFF;\n",
              "    }\n",
              "  </style>\n",
              "\n",
              "      <script>\n",
              "        const buttonEl =\n",
              "          document.querySelector('#df-4d31746c-1a83-4ea9-b78b-76dba8e2808c button.colab-df-convert');\n",
              "        buttonEl.style.display =\n",
              "          google.colab.kernel.accessAllowed ? 'block' : 'none';\n",
              "\n",
              "        async function convertToInteractive(key) {\n",
              "          const element = document.querySelector('#df-4d31746c-1a83-4ea9-b78b-76dba8e2808c');\n",
              "          const dataTable =\n",
              "            await google.colab.kernel.invokeFunction('convertToInteractive',\n",
              "                                                     [key], {});\n",
              "          if (!dataTable) return;\n",
              "\n",
              "          const docLinkHtml = 'Like what you see? Visit the ' +\n",
              "            '<a target=\"_blank\" href=https://colab.research.google.com/notebooks/data_table.ipynb>data table notebook</a>'\n",
              "            + ' to learn more about interactive tables.';\n",
              "          element.innerHTML = '';\n",
              "          dataTable['output_type'] = 'display_data';\n",
              "          await google.colab.output.renderOutput(dataTable, element);\n",
              "          const docLink = document.createElement('div');\n",
              "          docLink.innerHTML = docLinkHtml;\n",
              "          element.appendChild(docLink);\n",
              "        }\n",
              "      </script>\n",
              "    </div>\n",
              "  </div>\n",
              "  "
            ]
          },
          "metadata": {},
          "execution_count": 6
        }
      ],
      "source": [
        "#Get metadata dataframe for the 18,744 cells (rows of the matrix)\n",
        "meta = pd.read_csv('biccnMeta.csv',index_col = 0)\n",
        "meta.head()"
      ]
    },
    {
      "cell_type": "code",
      "execution_count": null,
      "metadata": {
        "colab": {
          "base_uri": "https://localhost:8080/",
          "height": 206
        },
        "id": "M5je0CyVN4DN",
        "outputId": "1b6a7a18-d70d-4266-dcc6-ed69d6ed2409"
      },
      "outputs": [
        {
          "output_type": "execute_result",
          "data": {
            "text/plain": [
              "                                         gene_name\n",
              "Rp1_ENSMUSG00000025900      Rp1_ENSMUSG00000025900\n",
              "Sox17_ENSMUSG00000025902  Sox17_ENSMUSG00000025902\n",
              "Oprk1_ENSMUSG00000025905  Oprk1_ENSMUSG00000025905\n",
              "St18_ENSMUSG00000033740    St18_ENSMUSG00000033740\n",
              "Sntg1_ENSMUSG00000025909  Sntg1_ENSMUSG00000025909"
            ],
            "text/html": [
              "\n",
              "  <div id=\"df-55ed847b-1402-4265-9e84-8c60e4e792f0\">\n",
              "    <div class=\"colab-df-container\">\n",
              "      <div>\n",
              "<style scoped>\n",
              "    .dataframe tbody tr th:only-of-type {\n",
              "        vertical-align: middle;\n",
              "    }\n",
              "\n",
              "    .dataframe tbody tr th {\n",
              "        vertical-align: top;\n",
              "    }\n",
              "\n",
              "    .dataframe thead th {\n",
              "        text-align: right;\n",
              "    }\n",
              "</style>\n",
              "<table border=\"1\" class=\"dataframe\">\n",
              "  <thead>\n",
              "    <tr style=\"text-align: right;\">\n",
              "      <th></th>\n",
              "      <th>gene_name</th>\n",
              "    </tr>\n",
              "  </thead>\n",
              "  <tbody>\n",
              "    <tr>\n",
              "      <th>Rp1_ENSMUSG00000025900</th>\n",
              "      <td>Rp1_ENSMUSG00000025900</td>\n",
              "    </tr>\n",
              "    <tr>\n",
              "      <th>Sox17_ENSMUSG00000025902</th>\n",
              "      <td>Sox17_ENSMUSG00000025902</td>\n",
              "    </tr>\n",
              "    <tr>\n",
              "      <th>Oprk1_ENSMUSG00000025905</th>\n",
              "      <td>Oprk1_ENSMUSG00000025905</td>\n",
              "    </tr>\n",
              "    <tr>\n",
              "      <th>St18_ENSMUSG00000033740</th>\n",
              "      <td>St18_ENSMUSG00000033740</td>\n",
              "    </tr>\n",
              "    <tr>\n",
              "      <th>Sntg1_ENSMUSG00000025909</th>\n",
              "      <td>Sntg1_ENSMUSG00000025909</td>\n",
              "    </tr>\n",
              "  </tbody>\n",
              "</table>\n",
              "</div>\n",
              "      <button class=\"colab-df-convert\" onclick=\"convertToInteractive('df-55ed847b-1402-4265-9e84-8c60e4e792f0')\"\n",
              "              title=\"Convert this dataframe to an interactive table.\"\n",
              "              style=\"display:none;\">\n",
              "        \n",
              "  <svg xmlns=\"http://www.w3.org/2000/svg\" height=\"24px\"viewBox=\"0 0 24 24\"\n",
              "       width=\"24px\">\n",
              "    <path d=\"M0 0h24v24H0V0z\" fill=\"none\"/>\n",
              "    <path d=\"M18.56 5.44l.94 2.06.94-2.06 2.06-.94-2.06-.94-.94-2.06-.94 2.06-2.06.94zm-11 1L8.5 8.5l.94-2.06 2.06-.94-2.06-.94L8.5 2.5l-.94 2.06-2.06.94zm10 10l.94 2.06.94-2.06 2.06-.94-2.06-.94-.94-2.06-.94 2.06-2.06.94z\"/><path d=\"M17.41 7.96l-1.37-1.37c-.4-.4-.92-.59-1.43-.59-.52 0-1.04.2-1.43.59L10.3 9.45l-7.72 7.72c-.78.78-.78 2.05 0 2.83L4 21.41c.39.39.9.59 1.41.59.51 0 1.02-.2 1.41-.59l7.78-7.78 2.81-2.81c.8-.78.8-2.07 0-2.86zM5.41 20L4 18.59l7.72-7.72 1.47 1.35L5.41 20z\"/>\n",
              "  </svg>\n",
              "      </button>\n",
              "      \n",
              "  <style>\n",
              "    .colab-df-container {\n",
              "      display:flex;\n",
              "      flex-wrap:wrap;\n",
              "      gap: 12px;\n",
              "    }\n",
              "\n",
              "    .colab-df-convert {\n",
              "      background-color: #E8F0FE;\n",
              "      border: none;\n",
              "      border-radius: 50%;\n",
              "      cursor: pointer;\n",
              "      display: none;\n",
              "      fill: #1967D2;\n",
              "      height: 32px;\n",
              "      padding: 0 0 0 0;\n",
              "      width: 32px;\n",
              "    }\n",
              "\n",
              "    .colab-df-convert:hover {\n",
              "      background-color: #E2EBFA;\n",
              "      box-shadow: 0px 1px 2px rgba(60, 64, 67, 0.3), 0px 1px 3px 1px rgba(60, 64, 67, 0.15);\n",
              "      fill: #174EA6;\n",
              "    }\n",
              "\n",
              "    [theme=dark] .colab-df-convert {\n",
              "      background-color: #3B4455;\n",
              "      fill: #D2E3FC;\n",
              "    }\n",
              "\n",
              "    [theme=dark] .colab-df-convert:hover {\n",
              "      background-color: #434B5C;\n",
              "      box-shadow: 0px 1px 3px 1px rgba(0, 0, 0, 0.15);\n",
              "      filter: drop-shadow(0px 1px 2px rgba(0, 0, 0, 0.3));\n",
              "      fill: #FFFFFF;\n",
              "    }\n",
              "  </style>\n",
              "\n",
              "      <script>\n",
              "        const buttonEl =\n",
              "          document.querySelector('#df-55ed847b-1402-4265-9e84-8c60e4e792f0 button.colab-df-convert');\n",
              "        buttonEl.style.display =\n",
              "          google.colab.kernel.accessAllowed ? 'block' : 'none';\n",
              "\n",
              "        async function convertToInteractive(key) {\n",
              "          const element = document.querySelector('#df-55ed847b-1402-4265-9e84-8c60e4e792f0');\n",
              "          const dataTable =\n",
              "            await google.colab.kernel.invokeFunction('convertToInteractive',\n",
              "                                                     [key], {});\n",
              "          if (!dataTable) return;\n",
              "\n",
              "          const docLinkHtml = 'Like what you see? Visit the ' +\n",
              "            '<a target=\"_blank\" href=https://colab.research.google.com/notebooks/data_table.ipynb>data table notebook</a>'\n",
              "            + ' to learn more about interactive tables.';\n",
              "          element.innerHTML = '';\n",
              "          dataTable['output_type'] = 'display_data';\n",
              "          await google.colab.output.renderOutput(dataTable, element);\n",
              "          const docLink = document.createElement('div');\n",
              "          docLink.innerHTML = docLinkHtml;\n",
              "          element.appendChild(docLink);\n",
              "        }\n",
              "      </script>\n",
              "    </div>\n",
              "  </div>\n",
              "  "
            ]
          },
          "metadata": {},
          "execution_count": 7
        }
      ],
      "source": [
        "#Get metadata dataframe for the 5,000 genes (columns of the matrix)\n",
        "\n",
        "meta_gene = pd.read_csv('biccnGeneMeta.csv',index_col = 0)\n",
        "meta_gene.head()\n"
      ]
    },
    {
      "cell_type": "markdown",
      "metadata": {
        "id": "u2DFUfz9OGGd"
      },
      "source": [
        "## **Problem 3 (30 points)**"
      ]
    },
    {
      "cell_type": "markdown",
      "metadata": {
        "id": "Jtx3LM4-Skv8"
      },
      "source": [
        "Gaussian mixture model (GMM) is as defined below:\n",
        "\n",
        "\\begin{align}\n",
        "f_{GMM}(\\mathbf{x})=\\sum_{j=1}^k \\phi_j f(\\mathbf {x};{\\boldsymbol{\\mu }}_{j},\\mathbf{\\Sigma}_{j})\n",
        "\\end{align}\n",
        "subject to $\\sum_{j=1}^k \\phi_j = 1$.\n",
        "\n",
        "$\\boldsymbol{\\phi}$ denotes the weights for each Gaussian pdf $f$, and together the GMM is defined as the weighted sum of these Gaussians. $\\boldsymbol{\\mu} \\text{ and } \\mathbf{\\Sigma}$ represent the mean (vector) and covariance (matrix) for each of the $k$ multivariate Gaussians. This model can then describe data with multiple modes/areas of high density i.e. $k$ cell types which shared distinct gene expression signatures."
      ]
    },
    {
      "cell_type": "markdown",
      "metadata": {
        "id": "cuXYuplhT87h"
      },
      "source": [
        "Let $\\mathbf{x} = (\\mathbf{x}_1, \\mathbf{x}_2, \\ldots \\mathbf{x}_n)$ be $n$ independent observations (e.g. cells) which come from a mixture of Gaussians. They are $d$ dimensional, where $d$ is the number of gene measurements. We will define $\\mathbf{z} = (z_1, z_2, \\ldots z_n)$ as the latent variable which represents the mixture component (of the $k$ components) which a cell comes from. Thus $\\phi_j = P(Z = j)$."
      ]
    },
    {
      "cell_type": "markdown",
      "metadata": {
        "id": "O130zlbuVrjz"
      },
      "source": [
        "The parameters to be fit, $\\theta = (\\boldsymbol{\\mu}_1,\\ldots \\boldsymbol{\\mu}_k, \\mathbf{\\Sigma_1}, \\ldots \\mathbf{\\Sigma_k}, \\mathbf{\\phi}_1, \\ldots \\mathbf{\\phi}_k)$ (the parameters of the GMM)."
      ]
    },
    {
      "cell_type": "markdown",
      "metadata": {
        "id": "1TE_28ohWNUh"
      },
      "source": [
        "The (complete) likelihood for maximization is defined as \n",
        "\\begin{align}\n",
        "p(\\mathbf {x},\\mathbf {z};\\theta) =\\prod _{i=1}^{n}\\prod _{j=1}^{k}\\ [f(\\mathbf {x} _{i};{\\boldsymbol{\\mu }}_{j},\\mathbf{\\Sigma}_{j})\\phi_{j}]^{\\mathbb {I} (z_{i}=j)}\n",
        "\\end{align}\n",
        "\n",
        "where $\\mathbb {I}$ is the indicator function.\n",
        "\n",
        "As described in Problem 1, we will use the $Q$ function to maximize, where \n",
        "\\begin{align}\n",
        "Q(\\theta|\\theta_t) = E_{\\mathbf {z}|\\mathbf {x},\\theta_t} [\\log(p(\\mathbf {x},\\mathbf {z};\\theta))].\n",
        "\\end{align}\n"
      ]
    },
    {
      "cell_type": "markdown",
      "metadata": {
        "id": "CcNeuEG8lIEN"
      },
      "source": [
        "Dimensions of variables ($n$ cells, $d$ genes):\n",
        "\n",
        "$\\mathbf{X}: n\\times d$ matrix\n",
        "\n",
        "$\\boldsymbol{\\mu}: k \\times d$ matrix\n",
        "\n",
        "$\\boldsymbol{\\Sigma}: k\\times d \\times d$ matrix\n",
        "\n",
        "$\\boldsymbol{\\phi}:$ 1d array of length $k$"
      ]
    },
    {
      "cell_type": "markdown",
      "metadata": {
        "id": "9X5uTrNgSrVU"
      },
      "source": [
        "### **a) Often covariance matrices of single-cell datasets are singular (non-invertible). Subset the input matrix X to create a 'regularized'-non-singular matrix to use.(5 points)**"
      ]
    },
    {
      "cell_type": "markdown",
      "metadata": {
        "id": "S14pcM1aTAyt"
      },
      "source": [
        "Remove the bottom half of genes based on variance i.e. calculate the variance of expression for *each* gene and remove any genes below the mean variance (from across all genes). In this sense we are further removing 'redundancy' from the matrix.\n",
        "\n",
        "Remember that the counts of the matrix are log1p() of the original counts.\n",
        "\n",
        "**Report how many genes remain after this subsetting, and use this subsetted matrix for all downstream calculations.**"
      ]
    },
    {
      "cell_type": "code",
      "execution_count": null,
      "metadata": {
        "id": "h63VPYXeTARQ"
      },
      "outputs": [],
      "source": [
        "ori_counts=np.exp(count_mat)-1"
      ]
    },
    {
      "cell_type": "code",
      "execution_count": null,
      "metadata": {
        "colab": {
          "base_uri": "https://localhost:8080/"
        },
        "id": "kz-4kjJ_TATb",
        "outputId": "34fdbffa-97f1-4c03-d770-fdd787f99390"
      },
      "outputs": [
        {
          "output_type": "execute_result",
          "data": {
            "text/plain": [
              "(18744, 97)"
            ]
          },
          "metadata": {},
          "execution_count": 9
        }
      ],
      "source": [
        "gene_var=np.ravel(np.var(ori_counts, axis=0))\n",
        "mean = np.mean(gene_var)\n",
        "idx = gene_var > mean\n",
        "\n",
        "counts=count_mat[:,idx]\n",
        "counts.shape"
      ]
    },
    {
      "cell_type": "code",
      "execution_count": null,
      "metadata": {
        "id": "dsjZF3LAziHA"
      },
      "outputs": [],
      "source": [
        "X=counts"
      ]
    },
    {
      "cell_type": "markdown",
      "metadata": {
        "id": "y8oMK4OkOVGZ"
      },
      "source": [
        "### **b) Implement the E step (5 points)**"
      ]
    },
    {
      "cell_type": "markdown",
      "metadata": {
        "id": "Plo-CevdOXeb"
      },
      "source": [
        "For the E step we assume a set of (randomly initialized) $\\theta_t$.\n",
        "Then:\n",
        "\\begin{align}\n",
        "Q(\\theta|\\theta_t) &= \\sum_{i=1}^{n} \\sum_{j=1}^{k} P(Z_i = j | X_i = \\mathbf{x}_i; \\theta_t) \\log(p(\\mathbf {x}_i,j;\\theta_j)) \\\\\n",
        " &= \\sum_{i=1}^{n} \\sum_{j=1}^{k} T_{i,j}^t[\\log \\phi _{j}-{\\tfrac {1}{2}}\\log |\\mathbf{\\Sigma} _{j}|-{\\tfrac {1}{2}}(\\mathbf {x} _{i}-{\\boldsymbol {\\mu }}_{j})^{\\top }\\mathbf{\\Sigma} _{j}^{-1}(\\mathbf {x} _{i}-{\\boldsymbol {\\mu }}_{j})-{\\tfrac {d}{2}}\\log(2\\pi )]\n",
        "\\end{align}\n",
        "\n",
        "\n"
      ]
    },
    {
      "cell_type": "markdown",
      "metadata": {
        "id": "SeA2jtM-n_v9"
      },
      "source": [
        "$T_{i,j}^t$ represents $P(Z_i = j | X_i = \\mathbf{x}_i; \\theta_t)$ and $p(\\mathbf {x}_i,j;\\theta_j) = f(\\mathbf {x} _{i};{\\boldsymbol{\\mu }}_{j},\\mathbf{\\Sigma}_{j})\\phi_{j}$.\n",
        "\n",
        "$T_{i,j}^t$ needs to be calculated given the current $\\theta_t$ for every $\\mathbf{x}_i$ in the E step.\n",
        "\n",
        "Using Bayes theorem we can get that \n",
        "\\begin{align}\n",
        "T_{i,j}^t = \\frac {\\phi _{j}^{t}\\ f(\\mathbf {x} _{i};{\\boldsymbol {\\mu }}_{j}^{t},\\mathbf{\\Sigma} _{j}^{t})}{\\sum_{r=1}^k \\phi _{r}^{t}\\ f(\\mathbf {x} _{i};{\\boldsymbol {\\mu }}_{r}^{t},\\mathbf{\\Sigma} _{r}^{t})}\n",
        "\\end{align}\n",
        "\n"
      ]
    },
    {
      "cell_type": "markdown",
      "metadata": {
        "id": "soHVlU_sRKAe"
      },
      "source": [
        "You can use [scipy.stats multivariate_normal.pdf](https://docs.scipy.org/doc/scipy/reference/generated/scipy.stats.multivariate_normal.html) to calculate $f$ and [numpy cov](https://numpy.org/doc/stable/reference/generated/numpy.cov.html) to calculate covariances."
      ]
    },
    {
      "cell_type": "markdown",
      "metadata": {
        "id": "FBdvGVNqsv-e"
      },
      "source": [
        "**Fill in the e_step() function and calculate the matrix $\\mathbf{T}$ given inputs $\\mathbf{X}, \\boldsymbol{\\mu^t}, \\mathbf{\\Sigma^t}, \\textbf{ and } \\boldsymbol{\\phi^t}$. $\\mathbf{X}$  represents our cell x genes data matrix.**\n",
        "\n",
        "Note: You may need to add a small epsilon ($\\approx$ 1e-100) to $f$ values, to avoid divide by zero errors."
      ]
    },
    {
      "cell_type": "code",
      "execution_count": null,
      "metadata": {
        "id": "INVAvW2EC_dc"
      },
      "outputs": [],
      "source": [
        "from scipy.stats import multivariate_normal"
      ]
    },
    {
      "cell_type": "code",
      "execution_count": null,
      "metadata": {
        "id": "HfisvYTyODwK"
      },
      "outputs": [],
      "source": [
        "def e_step(X, Mu, Sigma, phi):\n",
        "  '''\n",
        "  Parameters:\n",
        "   X: n*d matrix\n",
        "   Mu: k*d matrix\n",
        "   Sigma: k*d*d tensor\n",
        "   phi: 1d array of length k\n",
        "  '''\n",
        "  eps = 10e-100\n",
        "  n,d=X.shape \n",
        "  k=len(Mu) \n",
        "  f = np.zeros((n,k))\n",
        "  for j in range(k):\n",
        "    f[:,j] = multivariate_normal.pdf(X, mean=Mu[j], cov=Sigma[j], allow_singular=True)\n",
        "  f=f+eps\n",
        "  p=phi[None,:]*f\n",
        "  T= p/np.sum(p,axis=1)[:,None]\n",
        "  return T, f"
      ]
    },
    {
      "cell_type": "markdown",
      "metadata": {
        "id": "4kqrqo5GOkEp"
      },
      "source": [
        "### **c) Implement the M step (5 points)**"
      ]
    },
    {
      "cell_type": "markdown",
      "metadata": {
        "id": "JPme3tp7qRo4"
      },
      "source": [
        "In the maximization (M) step, we then (re-)calculate the MLE values for $\\theta$ or $(\\boldsymbol{\\mu}_1,\\ldots \\boldsymbol{\\mu}_k, \\mathbf{\\Sigma}_1, \\ldots \\mathbf{\\Sigma}_k, \\mathbf{\\phi}_1, \\ldots \\mathbf{\\phi}_k)$ at this $t+1$ step. \n",
        "\n",
        "Here $j$ is from 1 to k."
      ]
    },
    {
      "cell_type": "markdown",
      "metadata": {
        "id": "bvVv0qwjqqqy"
      },
      "source": [
        "For $\\boldsymbol{\\phi}$\n",
        "\\begin{align}\n",
        "\\phi _{j} ={\\frac {1}{n}}\\sum _{i=1}^{n}T_{i,j}^{t}.\n",
        "\\end{align}\n",
        "\n",
        "\n",
        "For $\\boldsymbol{\\mu}$\n",
        "\\begin{align}\n",
        "\\boldsymbol{\\mu}_j = \\frac{\\sum_{i=1}^n T_{i,j}^{t} \\mathbf{x}_i}{\\sum_{i=1}^n T_{i,j}^{t}}.\n",
        "\\end{align}\n",
        "\n",
        "And for $\\boldsymbol{\\Sigma}$\n",
        "\\begin{align}\n",
        "\\mathbf{\\Sigma}_j = \\frac{\\sum_{i=1}^n T_{i,j}^{t} (\\mathbf{x}_i - \\boldsymbol{\\mu}_j)^\\top (\\mathbf{x}_i - \\boldsymbol{\\mu}_j) }{\\sum_{i=1}^n T_{i,j}^{t}}\n",
        "\\end{align}"
      ]
    },
    {
      "cell_type": "markdown",
      "metadata": {
        "id": "typSX-yJsyWw"
      },
      "source": [
        "**Fill in the m_step() function to calculate the updated $\\boldsymbol{\\mu}, \\mathbf{\\Sigma}, \\textbf{ and } \\boldsymbol{\\phi}$ values given $\\mathbf{T}$.**\n",
        "\n",
        "Note: To calculate the new covariance matrices you can use the aweights input option for [np.cov](https://numpy.org/doc/stable/reference/generated/numpy.cov.html), where the $T^t_{i,j}$ values are the weights."
      ]
    },
    {
      "cell_type": "code",
      "execution_count": null,
      "metadata": {
        "id": "CyFM88e7Ok7J"
      },
      "outputs": [],
      "source": [
        "def m_step(X, T):\n",
        "  n,d=np.shape(X) \n",
        "  n,k=np.shape(T)\n",
        "  phi = np.mean(T,axis=0)\n",
        "  Mu = np.zeros((k,d))\n",
        "  Sigma = np.zeros((k,d,d))\n",
        "  for j in range(k):\n",
        "    t = T[:, [j]]\n",
        "    total_t = t.sum()\n",
        "    Mu[j,:] = (t.T@X).sum(axis=0) / total_t\n",
        "    Sigma[j] = np.cov(X.T, aweights=(t/total_t).flatten(), bias=True)\n",
        "  return Mu, Sigma, phi"
      ]
    },
    {
      "cell_type": "markdown",
      "metadata": {
        "id": "HYJQW5CROmPC"
      },
      "source": [
        "### **d) Run EM steps for 100 iterations and get mixture (cluster) assignments for the cells. (10 points)**"
      ]
    },
    {
      "cell_type": "markdown",
      "metadata": {
        "id": "mjxCPu_6s28W"
      },
      "source": [
        "To initialize the EM process we will (1) let $k = 10$ (also the number of labeled cell types), (2) assume $\\boldsymbol{\\phi}$ has a uniform probability for each $k$, (3) choose random rows from the data to represent each of the $k$  $\\boldsymbol{\\mu}$s, and (4) use the covariance matrix for $\\mathbf{X}$ (the cell x genes matrix) to intialize the $k$ $\\mathbf{\\Sigma}$s.\n",
        "\n",
        "Run the EM algorithm for 100 iterations.\n",
        "\n",
        "** **"
      ]
    },
    {
      "cell_type": "markdown",
      "metadata": {
        "id": "1nT6tKWTvL_P"
      },
      "source": [
        "Determine the final cluster assignment for each cell $i$ by finding which $k$ (mixture component) has the max $T_{i,j}$ value."
      ]
    },
    {
      "cell_type": "markdown",
      "metadata": {
        "id": "RV2NAmy3s6yM"
      },
      "source": [
        "**Plot Q over the iterations, and report $\\boldsymbol{\\phi}$ and the cluster (k) assignments for the first 10 cells after 100 iterations.**\n",
        "\n",
        "**You can use the initialization provided below.**"
      ]
    },
    {
      "cell_type": "code",
      "execution_count": null,
      "metadata": {
        "id": "pGrKFfdIIsPM"
      },
      "outputs": [],
      "source": [
        "def EM(X, Mu, Sigma, phi, iterations=100):\n",
        "  Q=np.zeros(iterations)\n",
        "  old_T, f = e_step(X, Mu, Sigma, phi)\n",
        "  Mu, Sigma, phi = m_step(X, old_T)\n",
        "  for i in range(iterations):\n",
        "    new_T, f = e_step(X, Mu, Sigma, phi)\n",
        "    q = np.sum(old_T*np.log(phi*f))\n",
        "    Mu, Sigma, phi = m_step(X, new_T)\n",
        "    old_T = new_T\n",
        "    Q[i] = q\n",
        "  return new_T, Mu, Sigma, phi, Q"
      ]
    },
    {
      "cell_type": "code",
      "execution_count": null,
      "metadata": {
        "id": "8n5Nd3dMs2N2"
      },
      "outputs": [],
      "source": [
        "n,d=X.shape\n",
        "k=10\n",
        "np.random.seed(2022)\n",
        "init_idx=np.random.choice(n,k,replace=False)\n",
        "Mu0=np.asarray(X[init_idx,:])\n",
        "Sigma0=[ np.cov(X.T) for _ in range(k) ]\n",
        "phi0=np.ones(k)/k"
      ]
    },
    {
      "cell_type": "code",
      "execution_count": null,
      "metadata": {
        "id": "q4aGFfYiBIqb"
      },
      "outputs": [],
      "source": [
        "T, Mu, Sigma, phi, Q = EM(X, Mu0, Sigma0,  phi0, iterations=100)"
      ]
    },
    {
      "cell_type": "code",
      "execution_count": null,
      "metadata": {
        "id": "l3zF7UD7NAgu"
      },
      "outputs": [],
      "source": [
        "cluster_assig=np.argmax(T, axis=1)"
      ]
    },
    {
      "cell_type": "code",
      "execution_count": null,
      "metadata": {
        "colab": {
          "base_uri": "https://localhost:8080/"
        },
        "id": "vudRdaQDZ92o",
        "outputId": "92b49a35-bf81-4111-9c14-133f26fcaca3"
      },
      "outputs": [
        {
          "output_type": "stream",
          "name": "stdout",
          "text": [
            "𝜙 is  [0.01916477 0.04064866 0.00914755 0.036432   0.03432795 0.07456357\n",
            " 0.27759634 0.35443737 0.01313044 0.14055134]\n"
          ]
        }
      ],
      "source": [
        "print(\"𝜙 is \", phi)"
      ]
    },
    {
      "cell_type": "code",
      "execution_count": null,
      "metadata": {
        "colab": {
          "base_uri": "https://localhost:8080/"
        },
        "id": "Be0WnrsmaHWs",
        "outputId": "2ef5e938-4865-4507-b852-fa086ad7ff99"
      },
      "outputs": [
        {
          "output_type": "stream",
          "name": "stdout",
          "text": [
            "The cluster (k) assignments for first 10 cells are  [7 7 6 7 7 7 3 5 9 9]\n"
          ]
        }
      ],
      "source": [
        "print(\"The cluster (k) assignments for first 10 cells are \", cluster_assig[:10])"
      ]
    },
    {
      "cell_type": "code",
      "execution_count": null,
      "metadata": {
        "colab": {
          "base_uri": "https://localhost:8080/",
          "height": 281
        },
        "id": "DZhsv_umt0e4",
        "outputId": "c953db2d-cf15-4a1d-c1b3-26db7445e164"
      },
      "outputs": [
        {
          "output_type": "display_data",
          "data": {
            "text/plain": [
              "<Figure size 432x288 with 1 Axes>"
            ],
            "image/png": "[encoded data removed]"
          },
          "metadata": {
            "needs_background": "light"
          }
        }
      ],
      "source": [
        "plt.plot(Q,'.')\n",
        "plt.title(\"Q in each iterations\")\n",
        "plt.show()"
      ]
    },
    {
      "cell_type": "markdown",
      "metadata": {
        "id": "s6YAyezbPTgp"
      },
      "source": [
        "### **e) Calculate correspondence of generated clusters and given cell type labels. (5 points)**"
      ]
    },
    {
      "cell_type": "markdown",
      "metadata": {
        "id": "IIr-6MaXUyLQ"
      },
      "source": [
        "For each mixture component/cluster of cells, find the majority cell type label and the percent of cells with that label.\n",
        "\n",
        "**Report the percent of cells with the majority label for each cluster and what that majority label is.**\n",
        "\n"
      ]
    },
    {
      "cell_type": "code",
      "execution_count": null,
      "metadata": {
        "colab": {
          "base_uri": "https://localhost:8080/"
        },
        "id": "35m709X_QRre",
        "outputId": "59e582c8-6294-406f-fa95-e0b94e0dee54"
      },
      "outputs": [
        {
          "output_type": "stream",
          "name": "stdout",
          "text": [
            "In the 0th cluster, 0.52 of cells have the majority label of Vip Chat\n",
            "In the 1th cluster, 0.71 of cells have the majority label of L6 CT Cpa6_1\n",
            "In the 2th cluster, 0.54 of cells have the majority label of Vip Chat\n",
            "In the 3th cluster, 0.87 of cells have the majority label of L5 NP Slc17a8_1\n",
            "In the 4th cluster, 0.51 of cells have the majority label of Vip Chat\n",
            "In the 5th cluster, 1.0 of cells have the majority label of L2/3 IT\n",
            "In the 6th cluster, 1.0 of cells have the majority label of L6 CT Cpa6_1\n",
            "In the 7th cluster, 0.98 of cells have the majority label of L2/3 IT\n",
            "In the 8th cluster, 0.69 of cells have the majority label of Vip Chat\n",
            "In the 9th cluster, 1.0 of cells have the majority label of L2/3 IT\n"
          ]
        }
      ],
      "source": [
        "lables=cluster_assig\n",
        "for j in range(k):\n",
        "    # find cell idx\n",
        "    cell_idx = np.where(lables==j)[0]\n",
        "    if len(cell_idx)==0:\n",
        "      continue\n",
        "    # count cell type label\n",
        "    cell_type = meta.iloc[cell_idx][\"cell_type\"].tolist()\n",
        "    # find the majority cell type label and percent\n",
        "    percents=[cell_type.count(x)/len(cell_type) for x in np.unique(cell_type)]\n",
        "    label_idx = np.argmax(percents)\n",
        "    print(\"In the \"+ str(j) +\"th cluster, \" + str(np.around(percents[label_idx],2)) + \" of cells have the majority label of \" + cell_type[label_idx])"
      ]
    },
    {
      "cell_type": "code",
      "execution_count": null,
      "metadata": {
        "colab": {
          "base_uri": "https://localhost:8080/"
        },
        "id": "77ulExyGpjwI",
        "outputId": "86aff313-d13f-450b-a1fb-fde9851ca8ca"
      },
      "outputs": [
        {
          "output_type": "stream",
          "name": "stdout",
          "text": [
            "3.81110733350118 mins\n"
          ]
        }
      ],
      "source": [
        "t=time.time()-t\n",
        "print(t/60,'mins')"
      ]
    },
    {
      "cell_type": "markdown",
      "metadata": {
        "id": "H1eP8x6SgpSB"
      },
      "source": [
        "### **Now let's compare to sklearn package (Not in homework)**"
      ]
    },
    {
      "cell_type": "code",
      "execution_count": null,
      "metadata": {
        "colab": {
          "base_uri": "https://localhost:8080/",
          "height": 351
        },
        "id": "ArJgkd6S3ose",
        "outputId": "17b5fa26-5024-42d5-a29e-1e6ba9776f6c"
      },
      "outputs": [
        {
          "output_type": "stream",
          "name": "stderr",
          "text": [
            "/usr/local/lib/python3.8/dist-packages/sklearn/utils/validation.py:593: FutureWarning: np.matrix usage is deprecated in 1.0 and will raise a TypeError in 1.2. Please convert to a numpy array with np.asarray. For more information see: https://numpy.org/doc/stable/reference/generated/numpy.matrix.html\n",
            "  warnings.warn(\n"
          ]
        },
        {
          "output_type": "display_data",
          "data": {
            "text/plain": [
              "<Figure size 432x288 with 1 Axes>"
            ],
            "image/png": "[encoded data removed]"
          },
          "metadata": {
            "needs_background": "light"
          }
        }
      ],
      "source": [
        "from sklearn.decomposition import PCA\n",
        "pca = PCA(svd_solver='full') # if n_components is not set all components are kept\n",
        "pca.fit(X)\n",
        "\n",
        "labels=cluster_assig\n",
        "y_pca = np.array(X@pca.components_.T[:,:2])\n",
        "\n",
        "fig, ax = plt.subplots()\n",
        "for i,cell_type in enumerate(np.unique(labels)):\n",
        "  idx = np.where( labels == cell_type)\n",
        "  ax.scatter(y_pca[idx,0], y_pca[idx,1], color = list(plt.cm.tab10(i)), label = cell_type)\n",
        "ax.legend(loc=(1.1,0.2), title=\"Cell types\")\n",
        "ax.set_xlabel(\"PC1\")\n",
        "ax.set_ylabel(\"PC2\")\n",
        "ax.set_title(\"GMM labels\")\n",
        "plt.show()"
      ]
    },
    {
      "cell_type": "code",
      "execution_count": null,
      "metadata": {
        "id": "xkjCpzo9qU2i"
      },
      "outputs": [],
      "source": [
        "from sklearn.mixture import GaussianMixture"
      ]
    },
    {
      "cell_type": "code",
      "execution_count": null,
      "metadata": {
        "colab": {
          "base_uri": "https://localhost:8080/"
        },
        "id": "hnrgYZWS8Kda",
        "outputId": "6098c881-52df-411b-b15d-f8867d9e2fce"
      },
      "outputs": [
        {
          "output_type": "stream",
          "name": "stderr",
          "text": [
            "/usr/local/lib/python3.8/dist-packages/sklearn/utils/validation.py:593: FutureWarning: np.matrix usage is deprecated in 1.0 and will raise a TypeError in 1.2. Please convert to a numpy array with np.asarray. For more information see: https://numpy.org/doc/stable/reference/generated/numpy.matrix.html\n",
            "  warnings.warn(\n",
            "/usr/local/lib/python3.8/dist-packages/sklearn/utils/validation.py:593: FutureWarning: np.matrix usage is deprecated in 1.0 and will raise a TypeError in 1.2. Please convert to a numpy array with np.asarray. For more information see: https://numpy.org/doc/stable/reference/generated/numpy.matrix.html\n",
            "  warnings.warn(\n"
          ]
        }
      ],
      "source": [
        "gm=GaussianMixture(n_components=k,means_init=Mu0,weights_init=phi0,max_iter=100).fit(X)\n",
        "gm_clusters=gm.predict(X)"
      ]
    },
    {
      "cell_type": "code",
      "execution_count": null,
      "metadata": {
        "colab": {
          "base_uri": "https://localhost:8080/"
        },
        "id": "PYx5L34IZxiy",
        "outputId": "edf4ffb6-6e36-4df0-f115-3c483715aae2"
      },
      "outputs": [
        {
          "output_type": "stream",
          "name": "stdout",
          "text": [
            "In the 0th cluster, 1.0 of cells have the majority label of L2/3 IT\n",
            "In the 1th cluster, 1.0 of cells have the majority label of L6 CT Cpa6_1\n",
            "In the 2th cluster, 0.61 of cells have the majority label of Vip Chat\n",
            "In the 3th cluster, 1.0 of cells have the majority label of L2/3 IT\n",
            "In the 4th cluster, 1.0 of cells have the majority label of Endo Slc38a5_1\n",
            "In the 5th cluster, 0.47 of cells have the majority label of L5 ET_1\n",
            "In the 6th cluster, 1.0 of cells have the majority label of Astro Aqp4\n",
            "In the 7th cluster, 0.58 of cells have the majority label of L5 NP Slc17a8_1\n",
            "In the 8th cluster, 1.0 of cells have the majority label of L6 CT Cpa6_1\n",
            "In the 9th cluster, 1.0 of cells have the majority label of L2/3 IT\n"
          ]
        }
      ],
      "source": [
        "lables=gm_clusters\n",
        "for j in range(k):\n",
        "    # find cell idx\n",
        "    cell_idx = np.where(lables==j)[0]\n",
        "    # count cell type label\n",
        "    cell_type = meta.iloc[cell_idx][\"cell_type\"].tolist()\n",
        "    # find the majority cell type label and percent\n",
        "    percents=[cell_type.count(x)/len(cell_type) for x in np.unique(cell_type)]\n",
        "    label_idx = np.argmax(percents)\n",
        "    print(\"In the \"+ str(j) +\"th cluster, \" + str(np.around(percents[label_idx],2)) + \" of cells have the majority label of \" + cell_type[label_idx])"
      ]
    },
    {
      "cell_type": "code",
      "execution_count": null,
      "metadata": {
        "colab": {
          "base_uri": "https://localhost:8080/",
          "height": 295
        },
        "id": "v8jTfAo1yyHT",
        "outputId": "19af1525-3498-42b7-ec3d-ab85e3033576"
      },
      "outputs": [
        {
          "output_type": "display_data",
          "data": {
            "text/plain": [
              "<Figure size 432x288 with 1 Axes>"
            ],
            "image/png": "[encoded data removed]"
          },
          "metadata": {
            "needs_background": "light"
          }
        }
      ],
      "source": [
        "labels=gm_clusters\n",
        "y_pca = np.array(X@pca.components_.T[:,:2])\n",
        "\n",
        "\n",
        "fig, ax = plt.subplots()\n",
        "for i,cell_type in enumerate(np.unique(labels)):\n",
        "  idx = np.where( labels == cell_type)\n",
        "  ax.scatter(y_pca[idx,0], y_pca[idx,1], color = list(plt.cm.tab10(i)), label = cell_type, alpha=0.5)\n",
        "ax.legend(loc=(1.1,0.2), title=\"Cell types\")\n",
        "ax.set_xlabel(\"PC1\")\n",
        "ax.set_ylabel(\"PC2\")\n",
        "ax.set_title(\"sklearn GMM lables\")\n",
        "plt.show()"
      ]
    },
    {
      "cell_type": "code",
      "execution_count": null,
      "metadata": {
        "colab": {
          "base_uri": "https://localhost:8080/",
          "height": 295
        },
        "id": "XmYuQJfW0_w1",
        "outputId": "996320cf-a39a-489b-e641-0e209adca464"
      },
      "outputs": [
        {
          "output_type": "display_data",
          "data": {
            "text/plain": [
              "<Figure size 432x288 with 1 Axes>"
            ],
            "image/png": "[encoded data removed]"
          },
          "metadata": {
            "needs_background": "light"
          }
        }
      ],
      "source": [
        "labels=meta[\"cell_type\"]\n",
        "y_pca = np.array(X@pca.components_.T[:,:2])\n",
        "\n",
        "fig, ax = plt.subplots()\n",
        "for i,cell_type in enumerate(np.unique(labels)):\n",
        "  idx = np.where( labels == cell_type)\n",
        "  ax.scatter(y_pca[idx,0], y_pca[idx,1], color = list(plt.cm.tab10(i)), label = cell_type, alpha=0.5)\n",
        "ax.legend(loc=(1.1,0.2), title=\"Cell types\")\n",
        "ax.set_xlabel(\"PC1\")\n",
        "ax.set_ylabel(\"PC2\")\n",
        "ax.set_title(\"cell type labels\")\n",
        "plt.show()"
      ]
    },
    {
      "cell_type": "code",
      "execution_count": null,
      "metadata": {
        "id": "TjApa3wWkREY"
      },
      "outputs": [],
      "source": []
    }
  ],
  "metadata": {
    "colab": {
      "provenance": [],
      "include_colab_link": true
    },
    "kernelspec": {
      "display_name": "Python 3",
      "name": "python3"
    },
    "language_info": {
      "name": "python"
    },
    "widgets": {
      "application/vnd.jupyter.widget-state+json": {
        "d9d5606df4af48a6ac909ebbc16b1e65": {
          "model_module": "@jupyter-widgets/controls",
          "model_name": "HBoxModel",
          "model_module_version": "1.5.0",
          "state": {
            "_dom_classes": [],
            "_model_module": "@jupyter-widgets/controls",
            "_model_module_version": "1.5.0",
            "_model_name": "HBoxModel",
            "_view_count": null,
            "_view_module": "@jupyter-widgets/controls",
            "_view_module_version": "1.5.0",
            "_view_name": "HBoxView",
            "box_style": "",
            "children": [
              "IPY_MODEL_3760de042fd34069986f6457ba6907d7",
              "IPY_MODEL_2adb1e8fb2a3426c934bfef5623829b6",
              "IPY_MODEL_d8155a43bb694a5092710fd09deef0ac"
            ],
            "layout": "IPY_MODEL_136e0fb8dff74d55ae368408a6065d16"
          }
        },
        "3760de042fd34069986f6457ba6907d7": {
          "model_module": "@jupyter-widgets/controls",
          "model_name": "HTMLModel",
          "model_module_version": "1.5.0",
          "state": {
            "_dom_classes": [],
            "_model_module": "@jupyter-widgets/controls",
            "_model_module_version": "1.5.0",
            "_model_name": "HTMLModel",
            "_view_count": null,
            "_view_module": "@jupyter-widgets/controls",
            "_view_module_version": "1.5.0",
            "_view_name": "HTMLView",
            "description": "",
            "description_tooltip": null,
            "layout": "IPY_MODEL_fb4227f5a8d14dd5ba4d8fca34e51c96",
            "placeholder": "​",
            "style": "IPY_MODEL_6a767101a53e42b3b7732398ecce26c5",
            "value": ""
          }
        },
        "2adb1e8fb2a3426c934bfef5623829b6": {
          "model_module": "@jupyter-widgets/controls",
          "model_name": "FloatProgressModel",
          "model_module_version": "1.5.0",
          "state": {
            "_dom_classes": [],
            "_model_module": "@jupyter-widgets/controls",
            "_model_module_version": "1.5.0",
            "_model_name": "FloatProgressModel",
            "_view_count": null,
            "_view_module": "@jupyter-widgets/controls",
            "_view_module_version": "1.5.0",
            "_view_name": "ProgressView",
            "bar_style": "success",
            "description": "",
            "description_tooltip": null,
            "layout": "IPY_MODEL_0e030039f10a43518217b2f74e3fe363",
            "max": 94578,
            "min": 0,
            "orientation": "horizontal",
            "style": "IPY_MODEL_ea79eb2922f54f59ac0c4e3d32e389de",
            "value": 94578
          }
        },
        "d8155a43bb694a5092710fd09deef0ac": {
          "model_module": "@jupyter-widgets/controls",
          "model_name": "HTMLModel",
          "model_module_version": "1.5.0",
          "state": {
            "_dom_classes": [],
            "_model_module": "@jupyter-widgets/controls",
            "_model_module_version": "1.5.0",
            "_model_name": "HTMLModel",
            "_view_count": null,
            "_view_module": "@jupyter-widgets/controls",
            "_view_module_version": "1.5.0",
            "_view_name": "HTMLView",
            "description": "",
            "description_tooltip": null,
            "layout": "IPY_MODEL_7875473405764df4bf10e8338d7f301b",
            "placeholder": "​",
            "style": "IPY_MODEL_bfe7c44243ae4140bccabae056b93ef4",
            "value": " 94579/? [01:30&lt;00:00, 17314.14B/s]"
          }
        },
        "136e0fb8dff74d55ae368408a6065d16": {
          "model_module": "@jupyter-widgets/base",
          "model_name": "LayoutModel",
          "model_module_version": "1.2.0",
          "state": {
            "_model_module": "@jupyter-widgets/base",
            "_model_module_version": "1.2.0",
            "_model_name": "LayoutModel",
            "_view_count": null,
            "_view_module": "@jupyter-widgets/base",
            "_view_module_version": "1.2.0",
            "_view_name": "LayoutView",
            "align_content": null,
            "align_items": null,
            "align_self": null,
            "border": null,
            "bottom": null,
            "display": null,
            "flex": null,
            "flex_flow": null,
            "grid_area": null,
            "grid_auto_columns": null,
            "grid_auto_flow": null,
            "grid_auto_rows": null,
            "grid_column": null,
            "grid_gap": null,
            "grid_row": null,
            "grid_template_areas": null,
            "grid_template_columns": null,
            "grid_template_rows": null,
            "height": null,
            "justify_content": null,
            "justify_items": null,
            "left": null,
            "margin": null,
            "max_height": null,
            "max_width": null,
            "min_height": null,
            "min_width": null,
            "object_fit": null,
            "object_position": null,
            "order": null,
            "overflow": null,
            "overflow_x": null,
            "overflow_y": null,
            "padding": null,
            "right": null,
            "top": null,
            "visibility": null,
            "width": null
          }
        },
        "fb4227f5a8d14dd5ba4d8fca34e51c96": {
          "model_module": "@jupyter-widgets/base",
          "model_name": "LayoutModel",
          "model_module_version": "1.2.0",
          "state": {
            "_model_module": "@jupyter-widgets/base",
            "_model_module_version": "1.2.0",
            "_model_name": "LayoutModel",
            "_view_count": null,
            "_view_module": "@jupyter-widgets/base",
            "_view_module_version": "1.2.0",
            "_view_name": "LayoutView",
            "align_content": null,
            "align_items": null,
            "align_self": null,
            "border": null,
            "bottom": null,
            "display": null,
            "flex": null,
            "flex_flow": null,
            "grid_area": null,
            "grid_auto_columns": null,
            "grid_auto_flow": null,
            "grid_auto_rows": null,
            "grid_column": null,
            "grid_gap": null,
            "grid_row": null,
            "grid_template_areas": null,
            "grid_template_columns": null,
            "grid_template_rows": null,
            "height": null,
            "justify_content": null,
            "justify_items": null,
            "left": null,
            "margin": null,
            "max_height": null,
            "max_width": null,
            "min_height": null,
            "min_width": null,
            "object_fit": null,
            "object_position": null,
            "order": null,
            "overflow": null,
            "overflow_x": null,
            "overflow_y": null,
            "padding": null,
            "right": null,
            "top": null,
            "visibility": null,
            "width": null
          }
        },
        "6a767101a53e42b3b7732398ecce26c5": {
          "model_module": "@jupyter-widgets/controls",
          "model_name": "DescriptionStyleModel",
          "model_module_version": "1.5.0",
          "state": {
            "_model_module": "@jupyter-widgets/controls",
            "_model_module_version": "1.5.0",
            "_model_name": "DescriptionStyleModel",
            "_view_count": null,
            "_view_module": "@jupyter-widgets/base",
            "_view_module_version": "1.2.0",
            "_view_name": "StyleView",
            "description_width": ""
          }
        },
        "0e030039f10a43518217b2f74e3fe363": {
          "model_module": "@jupyter-widgets/base",
          "model_name": "LayoutModel",
          "model_module_version": "1.2.0",
          "state": {
            "_model_module": "@jupyter-widgets/base",
            "_model_module_version": "1.2.0",
            "_model_name": "LayoutModel",
            "_view_count": null,
            "_view_module": "@jupyter-widgets/base",
            "_view_module_version": "1.2.0",
            "_view_name": "LayoutView",
            "align_content": null,
            "align_items": null,
            "align_self": null,
            "border": null,
            "bottom": null,
            "display": null,
            "flex": null,
            "flex_flow": null,
            "grid_area": null,
            "grid_auto_columns": null,
            "grid_auto_flow": null,
            "grid_auto_rows": null,
            "grid_column": null,
            "grid_gap": null,
            "grid_row": null,
            "grid_template_areas": null,
            "grid_template_columns": null,
            "grid_template_rows": null,
            "height": null,
            "justify_content": null,
            "justify_items": null,
            "left": null,
            "margin": null,
            "max_height": null,
            "max_width": null,
            "min_height": null,
            "min_width": null,
            "object_fit": null,
            "object_position": null,
            "order": null,
            "overflow": null,
            "overflow_x": null,
            "overflow_y": null,
            "padding": null,
            "right": null,
            "top": null,
            "visibility": null,
            "width": null
          }
        },
        "ea79eb2922f54f59ac0c4e3d32e389de": {
          "model_module": "@jupyter-widgets/controls",
          "model_name": "ProgressStyleModel",
          "model_module_version": "1.5.0",
          "state": {
            "_model_module": "@jupyter-widgets/controls",
            "_model_module_version": "1.5.0",
            "_model_name": "ProgressStyleModel",
            "_view_count": null,
            "_view_module": "@jupyter-widgets/base",
            "_view_module_version": "1.2.0",
            "_view_name": "StyleView",
            "bar_color": null,
            "description_width": ""
          }
        },
        "7875473405764df4bf10e8338d7f301b": {
          "model_module": "@jupyter-widgets/base",
          "model_name": "LayoutModel",
          "model_module_version": "1.2.0",
          "state": {
            "_model_module": "@jupyter-widgets/base",
            "_model_module_version": "1.2.0",
            "_model_name": "LayoutModel",
            "_view_count": null,
            "_view_module": "@jupyter-widgets/base",
            "_view_module_version": "1.2.0",
            "_view_name": "LayoutView",
            "align_content": null,
            "align_items": null,
            "align_self": null,
            "border": null,
            "bottom": null,
            "display": null,
            "flex": null,
            "flex_flow": null,
            "grid_area": null,
            "grid_auto_columns": null,
            "grid_auto_flow": null,
            "grid_auto_rows": null,
            "grid_column": null,
            "grid_gap": null,
            "grid_row": null,
            "grid_template_areas": null,
            "grid_template_columns": null,
            "grid_template_rows": null,
            "height": null,
            "justify_content": null,
            "justify_items": null,
            "left": null,
            "margin": null,
            "max_height": null,
            "max_width": null,
            "min_height": null,
            "min_width": null,
            "object_fit": null,
            "object_position": null,
            "order": null,
            "overflow": null,
            "overflow_x": null,
            "overflow_y": null,
            "padding": null,
            "right": null,
            "top": null,
            "visibility": null,
            "width": null
          }
        },
        "bfe7c44243ae4140bccabae056b93ef4": {
          "model_module": "@jupyter-widgets/controls",
          "model_name": "DescriptionStyleModel",
          "model_module_version": "1.5.0",
          "state": {
            "_model_module": "@jupyter-widgets/controls",
            "_model_module_version": "1.5.0",
            "_model_name": "DescriptionStyleModel",
            "_view_count": null,
            "_view_module": "@jupyter-widgets/base",
            "_view_module_version": "1.2.0",
            "_view_name": "StyleView",
            "description_width": ""
          }
        }
      }
    }
  },
  "nbformat": 4,
  "nbformat_minor": 0
}